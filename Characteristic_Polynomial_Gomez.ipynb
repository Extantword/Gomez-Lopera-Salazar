{
  "nbformat": 4,
  "nbformat_minor": 0,
  "metadata": {
    "colab": {
      "provenance": [],
      "collapsed_sections": [
        "aXsBWUhcAm1G"
      ]
    },
    "kernelspec": {
      "name": "python3",
      "display_name": "Python 3"
    },
    "language_info": {
      "name": "python"
    }
  },
  "cells": [
    {
      "cell_type": "code",
      "execution_count": null,
      "metadata": {
        "id": "6wDg_NsnkjPw"
      },
      "outputs": [],
      "source": []
    },
    {
      "cell_type": "markdown",
      "source": [
        "Por definición de valores y vectores propios tenemos que\n",
        "\n"
      ],
      "metadata": {
        "id": "10fucCf2xWm5"
      }
    },
    {
      "cell_type": "markdown",
      "source": [
        "$(A-λI)v=\\vec{0}$"
      ],
      "metadata": {
        "id": "_yG-u8ef1RzZ"
      }
    },
    {
      "cell_type": "markdown",
      "source": [
        "Dónde $A$ es una matriz $n\\times n$, $\\lambda$ es el valor propio, $v$ el vecor propio al que esta ligado el valor porpio, $I$ la matriz identidad y $\\vec{0}$ el vector nulo en $\\mathbb{R}^n$."
      ],
      "metadata": {
        "id": "8R5h92te1TMB"
      }
    },
    {
      "cell_type": "markdown",
      "source": [
        "Aqui para que haya soluciones no nulas es necesario que\n",
        " $Det(A−λI)=0$ pues de lo contrario la matriz será invertible y por tanto las unicas soluciones serán triviales.\n"
      ],
      "metadata": {
        "id": "1xhEEOQz25Ip"
      }
    },
    {
      "cell_type": "markdown",
      "source": [
        "Con esto claro tenemos que al expandir $Det(A−λI)=0$ se obtiene un polinomio de grado $n$ cuya incognita es λ, el cual conocemos como polinomio caracteristico, al hayar los ceros del polinomio estamos hayando posibles valores propios y al reemplazar estos en $(A−λI)v=\\vec{0}$ y despejando el vector $v$ podremos hayar el vector propio ligada a este valor propio."
      ],
      "metadata": {
        "id": "YTSkwxz--KX1"
      }
    },
    {
      "cell_type": "markdown",
      "source": [
        "Aunque el polinomio característico ofrece una forma de calcular los valores propios, resolver directamente las raíces del polinomio no es factible para matrices grandes. Por lo tanto, se aplican métodos iterativos como el método de Newton para encontrar aproximaciones a los valores propios."
      ],
      "metadata": {
        "id": "903BbyYClAUH"
      }
    },
    {
      "cell_type": "markdown",
      "source": [],
      "metadata": {
        "id": "ThPZyZZHowxz"
      }
    },
    {
      "cell_type": "markdown",
      "source": [
        "## supuestos para la convergencia con el metodo de Newton\n",
        "\n",
        "###Suposición Inicial:\n",
        " El método requiere una suposición inicial que esté razonablemente cerca de la raíz real (valor propio). Las malas suposiciones iniciales pueden resultar en una convergencia lenta o divergente.\n",
        "\n",
        "###No Singularidad de la Matriz:\n",
        "El método de Newton asume que la derivada \\( p_A'(\\lambda) \\) no es cero en el valor propio. Si el valor propio tiene multiplicidad mayor que 1, el método puede fallar a menos que se modifique para manejar tales casos.\n",
        "\n",
        "###Valores Propios Distintos:\n",
        "El método de Newton funciona mejor para matrices con valores propios distintos. Si la matriz tiene múltiples valores propios con alta multiplicidad, la convergencia puede ser lenta o inestable sin modificaciones al método.\n",
        "\n",
        "###Polinomios con Raíces Simples:\n",
        "El método de Newton generalmente asume que las raíces del polinomio característico son simples (no repetidas). Para raíces repetidas, se suelen usar algoritmos especializados como deflación o técnicas shift-invert para mejorar la convergencia."
      ],
      "metadata": {
        "id": "XGaiAiVzlndf"
      }
    },
    {
      "cell_type": "markdown",
      "source": [
        "Con todas estas suposiciones, según \"Numerical Analysis\" de Burden y Faires pagina 84 podemos afirmar que el polinomio será cuadraticamente convergente, es decirque existe una constante $C>0$ tal que $\\left| x_{k+1} - x^* \\right| \\leq C \\left| x_k - x^* \\right|^2$ para cada iteración del metodo."
      ],
      "metadata": {
        "id": "ez_qplTXHSRq"
      }
    },
    {
      "cell_type": "markdown",
      "source": [
        "#Codigo y test\n"
      ],
      "metadata": {
        "id": "aXsBWUhcAm1G"
      }
    },
    {
      "cell_type": "code",
      "source": [
        "import numpy as np\n",
        "\n",
        "# Function to compute eigenvalues and eigenvectors of a matrix\n",
        "def compute_eigen(matrix):\n",
        "    eigenvalues, eigenvectors = np.linalg.eig(matrix)\n",
        "    # Force eigenvalues and eigenvectors to be real if the imaginary part is negligible\n",
        "    eigenvalues = eigenvalues.real  # Remove imaginary part completely\n",
        "    eigenvectors = eigenvectors.real  # Remove imaginary part completely\n",
        "    return eigenvalues, eigenvectors\n",
        "\n",
        "# Function to compute the characteristic polynomial of a matrix\n",
        "def characteristic_polynomial(matrix):\n",
        "    return np.poly(matrix)\n",
        "\n",
        "# Compute the error for eigenvalues and eigenvectors\n",
        "def compute_error(matrix, eigenvalues, eigenvectors):\n",
        "    max_error = 0\n",
        "    for i, eigenvalue in enumerate(eigenvalues):\n",
        "        vec = eigenvectors[:, i]\n",
        "        error = np.linalg.norm(matrix @ vec - eigenvalue * vec)\n",
        "        max_error = max(max_error, error)\n",
        "    return max_error\n",
        "\n",
        "# Define a function to display results clearly for a single matrix\n",
        "def display_results_for_matrix(matrix, matrix_name):\n",
        "    eigenvalues, eigenvectors = compute_eigen(matrix)\n",
        "    char_poly = characteristic_polynomial(matrix)\n",
        "    max_error = compute_error(matrix, eigenvalues, eigenvectors)\n",
        "\n",
        "    # Format the results nicely\n",
        "    print(f\"\\nResults for Matrix {matrix_name}:\")\n",
        "    print(f\"Matrix:\\n{matrix}\\n\")\n",
        "    print(\"Characteristic Polynomial:\")\n",
        "    print(\" + \".join([f\"{coeff:.3f}x^{len(char_poly)-i-1}\" for i, coeff in enumerate(char_poly) if coeff != 0]).replace(\"x^0\", \"\"))\n",
        "    print(\"\\nEigenvalues:\")\n",
        "    print(\", \".join([f\"{val:.3f}\" for val in eigenvalues]))\n",
        "\n",
        "    # Format eigenvectors nicely\n",
        "    print(\"\\nEigenvectors:\")\n",
        "    for i in range(eigenvectors.shape[1]):\n",
        "        print(f\"Eigenvector {i+1}: [{', '.join([f'{v:.3f}' for v in eigenvectors[:, i]])}]\")\n",
        "\n",
        "    print(f\"\\nMax Error: {max_error:.2e}\")\n",
        "    print(\"-\" * 50)\n",
        "\n",
        "# Define matrices as provided\n",
        "matrices = {\n",
        "    \"A\": np.array([[2, 1], [3, 4]]),\n",
        "    \"B\": np.array([[3, 2], [3, 4]]),\n",
        "    \"C\": np.array([[2, 3], [1, 4]]),\n",
        "    \"D\": np.array([[1, 1, 2], [2, 1, 1], [1, 1, 3]]),\n",
        "    \"E\": np.array([[1, 1, 2], [2, 1, 3], [1, 1, 1]]),\n",
        "    \"F\": np.array([[2, 1, 2], [1, 1, 3], [1, 1, 1]]),\n",
        "    \"G\": np.array([[1, 1, 1, 2], [2, 1, 1, 1], [3, 2, 1, 2], [2, 1, 1, 4]]),\n",
        "    \"H\": np.array([[1, 2, 1, 2], [2, 1, 1, 1], [3, 2, 1, 2], [2, 1, 1, 4]]),\n",
        "}\n",
        "\n",
        "# Display results for each matrix one by one\n",
        "for name, matrix in matrices.items():\n",
        "    display_results_for_matrix(matrix, name)\n"
      ],
      "metadata": {
        "colab": {
          "base_uri": "https://localhost:8080/"
        },
        "id": "GXyT0023Y_EE",
        "outputId": "3e30e2a2-ffc9-40c1-bb27-f8e18fb272f7"
      },
      "execution_count": 3,
      "outputs": [
        {
          "output_type": "stream",
          "name": "stdout",
          "text": [
            "\n",
            "Results for Matrix A:\n",
            "Matrix:\n",
            "[[2 1]\n",
            " [3 4]]\n",
            "\n",
            "Characteristic Polynomial:\n",
            "1.000x^2 + -6.000x^1 + 5.000\n",
            "\n",
            "Eigenvalues:\n",
            "1.000, 5.000\n",
            "\n",
            "Eigenvectors:\n",
            "Eigenvector 1: [-0.707, 0.707]\n",
            "Eigenvector 2: [-0.316, -0.949]\n",
            "\n",
            "Max Error: 0.00e+00\n",
            "--------------------------------------------------\n",
            "\n",
            "Results for Matrix B:\n",
            "Matrix:\n",
            "[[3 2]\n",
            " [3 4]]\n",
            "\n",
            "Characteristic Polynomial:\n",
            "1.000x^2 + -7.000x^1 + 6.000\n",
            "\n",
            "Eigenvalues:\n",
            "1.000, 6.000\n",
            "\n",
            "Eigenvectors:\n",
            "Eigenvector 1: [-0.707, 0.707]\n",
            "Eigenvector 2: [-0.555, -0.832]\n",
            "\n",
            "Max Error: 0.00e+00\n",
            "--------------------------------------------------\n",
            "\n",
            "Results for Matrix C:\n",
            "Matrix:\n",
            "[[2 3]\n",
            " [1 4]]\n",
            "\n",
            "Characteristic Polynomial:\n",
            "1.000x^2 + -6.000x^1 + 5.000\n",
            "\n",
            "Eigenvalues:\n",
            "1.000, 5.000\n",
            "\n",
            "Eigenvectors:\n",
            "Eigenvector 1: [-0.949, 0.316]\n",
            "Eigenvector 2: [-0.707, -0.707]\n",
            "\n",
            "Max Error: 5.55e-17\n",
            "--------------------------------------------------\n",
            "\n",
            "Results for Matrix D:\n",
            "Matrix:\n",
            "[[1 1 2]\n",
            " [2 1 1]\n",
            " [1 1 3]]\n",
            "\n",
            "Characteristic Polynomial:\n",
            "1.000x^3 + -5.000x^2 + 2.000x^1 + 1.000\n",
            "\n",
            "Eigenvalues:\n",
            "4.507, -0.285, 0.778\n",
            "\n",
            "Eigenvectors:\n",
            "Eigenvector 1: [-0.532, -0.499, -0.684]\n",
            "Eigenvector 2: [-0.498, 0.860, -0.110]\n",
            "Eigenvector 3: [-0.130, -0.881, 0.455]\n",
            "\n",
            "Max Error: 1.09e-15\n",
            "--------------------------------------------------\n",
            "\n",
            "Results for Matrix E:\n",
            "Matrix:\n",
            "[[1 1 2]\n",
            " [2 1 3]\n",
            " [1 1 1]]\n",
            "\n",
            "Characteristic Polynomial:\n",
            "1.000x^3 + -3.000x^2 + -4.000x^1 + -1.000\n",
            "\n",
            "Eigenvalues:\n",
            "4.049, -0.357, -0.692\n",
            "\n",
            "Eigenvectors:\n",
            "Eigenvector 1: [-0.518, -0.748, -0.415]\n",
            "Eigenvector 2: [-0.855, 0.211, 0.474]\n",
            "Eigenvector 3: [-0.268, -0.752, 0.603]\n",
            "\n",
            "Max Error: 1.88e-15\n",
            "--------------------------------------------------\n",
            "\n",
            "Results for Matrix F:\n",
            "Matrix:\n",
            "[[2 1 2]\n",
            " [1 1 3]\n",
            " [1 1 1]]\n",
            "\n",
            "Characteristic Polynomial:\n",
            "1.000x^3 + -4.000x^2 + -1.000x^1 + 2.000\n",
            "\n",
            "Eigenvalues:\n",
            "4.125, 0.637, -0.762\n",
            "\n",
            "Eigenvectors:\n",
            "Eigenvector 1: [-0.676, -0.612, -0.412]\n",
            "Eigenvector 2: [-0.727, 0.668, 0.161]\n",
            "Eigenvector 3: [-0.071, -0.850, 0.523]\n",
            "\n",
            "Max Error: 4.12e-15\n",
            "--------------------------------------------------\n",
            "\n",
            "Results for Matrix G:\n",
            "Matrix:\n",
            "[[1 1 1 2]\n",
            " [2 1 1 1]\n",
            " [3 2 1 2]\n",
            " [2 1 1 4]]\n",
            "\n",
            "Characteristic Polynomial:\n",
            "1.000x^4 + -7.000x^3 + 1.000x^2 + 9.000x^1 + 3.000\n",
            "\n",
            "Eigenvalues:\n",
            "6.635, 1.509, -0.736, -0.407\n",
            "\n",
            "Eigenvectors:\n",
            "Eigenvector 1: [0.389, 0.351, 0.560, 0.641]\n",
            "Eigenvector 2: [-0.109, -0.548, -0.616, 0.555]\n",
            "Eigenvector 3: [0.651, -0.320, -0.685, -0.063]\n",
            "Eigenvector 4: [0.389, -0.801, 0.445, -0.096]\n",
            "\n",
            "Max Error: 3.90e-15\n",
            "--------------------------------------------------\n",
            "\n",
            "Results for Matrix H:\n",
            "Matrix:\n",
            "[[1 2 1 2]\n",
            " [2 1 1 1]\n",
            " [3 2 1 2]\n",
            " [2 1 1 4]]\n",
            "\n",
            "Characteristic Polynomial:\n",
            "1.000x^4 + -7.000x^3 + -1.000x^2 + 14.000x^1 + 6.000\n",
            "\n",
            "Eigenvalues:\n",
            "6.827, 1.728, -1.088, -0.467\n",
            "\n",
            "Eigenvectors:\n",
            "Eigenvector 1: [-0.429, -0.349, -0.554, -0.623]\n",
            "Eigenvector 2: [-0.243, -0.484, -0.524, 0.657]\n",
            "Eigenvector 3: [-0.714, 0.352, 0.598, 0.094]\n",
            "Eigenvector 4: [-0.284, -0.227, 0.931, -0.031]\n",
            "\n",
            "Max Error: 3.69e-15\n",
            "--------------------------------------------------\n"
          ]
        }
      ]
    }
  ]
}