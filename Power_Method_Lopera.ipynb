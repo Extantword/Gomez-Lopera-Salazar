{
  "nbformat": 4,
  "nbformat_minor": 0,
  "metadata": {
    "colab": {
      "provenance": []
    },
    "kernelspec": {
      "name": "python3",
      "display_name": "Python 3"
    },
    "language_info": {
      "name": "python"
    }
  },
  "cells": [
    {
      "cell_type": "markdown",
      "source": [
        "# Método de las Potencias\n",
        "\n",
        "El método de las potencias se utiliza principalmente para encontrar el valor propio dominante de una matriz. Sin embargo, también puede emplearse para determinar los valores propios restantes mediante una pequeña modificación en su algoritmo, como se explica en *Numerical Analysis* (Burden y Faires, 9ª edición, 2011). A partir de este concepto, se puede deducir el algoritmo original y realizar las modificaciones necesarias.\n",
        "\n",
        "## Convergencia\n",
        "\n",
        "Para garantizar la convergencia del método, es necesario asumir las siguientes condiciones:\n",
        "\n",
        "Dada una matriz $A \\in \\mathbb{R}^{n \\times n}$, esta debe cumplir que:\n",
        "\n",
        "- Existe un conjunto de $n$ vectores propios linealmente independientes (Kincaid y Cheney, 2002, p. 257) que forman una base del espacio: $\\{ v_1, v_2, \\dots, v_n \\}$.\n",
        "- Existe un valor propio cuyo valor absoluto es mayor que los valores absolutos del resto. Es decir, si $\\lambda_j$ es el valor propio asociado al vector propio $v_j$, se cumple que:\n",
        "\n",
        "$$\n",
        "|\\lambda_1| > |\\lambda_2| \\geq |\\lambda_3| \\geq \\cdots \\geq |\\lambda_n|.\n",
        "$$\n",
        "\n",
        "Es importante resaltar que, según Burden y Faires (2011), el primer criterio no necesariamente requiere $n$ vectores propios linealmente independientes.\n",
        "\n",
        "Para iniciar el análisis del método, consideremos que para cualquier vector $x \\in \\mathbb{R}^n$, se tiene:\n",
        "\n",
        "$$\n",
        "x = \\sum_{j=1}^n \\beta_j v_j,\n",
        "$$\n",
        "\n",
        "donde $\\beta_j \\in \\mathbb{R}$. Así, es posible observar que:\n",
        "\n",
        "$$\n",
        "Ax = \\sum_{j=1}^n \\beta_j A v_j = \\sum_{j=1}^n \\beta_j \\lambda_j v_j, \\quad A^2x = \\sum_{j=1}^n \\beta_j \\lambda_j^2 v_j, \\quad \\dots, \\quad A^k x = \\sum_{j=1}^n \\beta_j \\lambda_j^k v_j,\n",
        "$$\n",
        "\n",
        "lo cual se deduce de la definición de vector propio.\n",
        "\n",
        "A continuación, se elige un vector unitario arbitrario $x_0$ según la norma y el espacio en el que se desee trabajar. De acuerdo con *Matrix Computations* (Golub y Van Loan, 4ª edición, 2013, p. 391), en $\\mathbb{C}$ es posible deducir el método utilizando la norma 2 ($||\\cdot||_2$). Sin embargo, Burden y Faires (2011) desarrollan el método en $\\mathbb{R}$ empleando la norma infinita ($||\\cdot||_\\infty$). En esta deducción se utilizará la norma infinita.\n",
        "\n",
        "Definimos dos secuencias $y_k$ y $x_k$ tales que:\n",
        "\n",
        "$$\n",
        "y_k = A x_{k-1},\n",
        "$$\n",
        "$$\n",
        "x_k = \\frac{y_k}{||y_k||_\\infty}.\n",
        "$$\n",
        "\n",
        "Con estas, se define una secuencia $\\mu_k$ como:\n",
        "\n",
        "$$\n",
        "\\mu_k = \\frac{||y_k||_\\infty}{||x_{k-1}||_\\infty} = \\frac{||A x_{k-1}||_\\infty}{||x_{k-1}||_\\infty} = \\frac{||\\sum_{j=1}^n \\beta_j \\lambda_j^k v_j||_\\infty}{||\\sum_{j=1}^n \\beta_j \\lambda_j^{k-1} v_j||_\\infty}.\n",
        "$$\n",
        "\n",
        "Dado que la norma infinita no es un operador lineal, este paso de simplificación es válido debido a que el valor propio dominante escala el vector propio asociado ($v_1$) de manera que:\n",
        "\n",
        "$$\n",
        "||y_k||_\\infty = |\\beta_1 \\lambda_1^k| ||v_1||_\\infty.\n",
        "$$\n",
        "\n",
        "Esto implica que:\n",
        "\n",
        "$$\n",
        "\\mu_k = \\lambda_1 \\left( \\frac{\\sum_{j=1}^n |\\beta_j| \\left( \\frac{|\\lambda_j|}{|\\lambda_1|} \\right)^k ||v_j||_\\infty}{\\sum_{j=1}^n |\\beta_j| \\left( \\frac{|\\lambda_j|}{|\\lambda_1|} \\right)^{k-1} ||v_j||_\\infty} \\right).\n",
        "$$\n",
        "\n",
        "Gracias a la segunda hipótesis, dado que $|\\lambda_1| > |\\lambda_j|$ para todo $j \\in \\{2, \\dots, n\\}$, se tiene que $\\left( \\frac{|\\lambda_j|}{|\\lambda_1|} \\right)^k \\to 0$ cuando $k \\to \\infty$. Por lo tanto, podemos afirmar que:\n",
        "\n",
        "$$\n",
        "\\lim_{k \\to \\infty} \\mu_k = \\lim_{k \\to \\infty} \\lambda_1 \\left( \\frac{|\\beta_1| ||v_1||_\\infty + \\sum_{j=2}^n |\\beta_j| \\left( \\frac{|\\lambda_j|}{|\\lambda_1|} \\right)^k ||v_j||_\\infty}{|\\beta_1| ||v_1||_\\infty + \\sum_{j=2}^n |\\beta_j| \\left( \\frac{|\\lambda_j|}{|\\lambda_1|} \\right)^{k-1} ||v_j||_\\infty} \\right) = \\lambda_1.\n",
        "$$\n",
        "\n",
        "Esto demuestra que, bajo las hipótesis asumidas, el método de las potencias converge al valor propio dominante con suficientes iteraciones.\n",
        "\n",
        "## Análisis de Error\n",
        "\n",
        "Según Burden y Faires (2011, p. 579) y Golub y Van Loan (2013, p. 366), el error asociado al método depende principalmente del cociente $\\frac{\\lambda_2}{\\lambda_1}$, y existe una constante $r$ para $k$ suficientemente grande tal que:\n",
        "\n",
        "$$\n",
        "|\\mu_k - \\lambda_1| \\approx r \\left| \\frac{\\lambda_2}{\\lambda_1} \\right|^k.\n",
        "$$\n",
        "\n",
        "De esta forma, se puede expresar explícitamente la tasa de convergencia mediante el cociente de dos errores consecutivos:\n",
        "\n",
        "$$\n",
        "\\frac{|\\mu_k - \\lambda_1|}{|\\mu_{k-1} - \\lambda_1|} = \\left| \\frac{\\lambda_2}{\\lambda_1} \\right|.\n",
        "$$\n",
        "\n",
        "Tomando el límite cuando $k \\to \\infty$, se obtiene:\n",
        "\n",
        "$$\n",
        "\\lim_{k \\to \\infty} \\frac{|\\mu_k - \\lambda_1|}{|\\mu_{k-1} - \\lambda_1|} = \\left| \\frac{\\lambda_2}{\\lambda_1} \\right|.\n",
        "$$\n",
        "\n",
        "Así, se concluye que el algoritmo tiene una tasa de convergencia lineal, expresada como:\n",
        "\n",
        "$$\n",
        "\\mathcal{O}\\left( \\left| \\frac{\\lambda_2}{\\lambda_1} \\right|^k \\right).\n",
        "$$\n"
      ],
      "metadata": {
        "id": "lTfgxbjfgv-2"
      }
    },
    {
      "cell_type": "markdown",
      "source": [
        "###Nota:\n",
        "El código anterior puede contener errores debido a la conversión del documento .tex al formato aceptado por Colab. Por esta razón, dejo a continuación el enlace donde se puede encontrar el archivo original: [Tarea_Analisis_Numerico_Power_method.pdf](https://drive.google.com/file/d/1jSEV2DcMOOsEEd9lz1bAWOH2fjWDBdDm/view?usp=sharing) y al codigo en Overleaf: [Tarea_Analisis_Numerico_Power_method.tex](https://www.overleaf.com/read/hztqtypcdvyf#a0f348)"
      ],
      "metadata": {
        "id": "K9QYNv5LhC5r"
      }
    },
    {
      "cell_type": "markdown",
      "source": [
        "###Codigo"
      ],
      "metadata": {
        "id": "aUKKlF0ui3bB"
      }
    },
    {
      "cell_type": "code",
      "execution_count": 59,
      "metadata": {
        "id": "OuBUYYFbd0v2"
      },
      "outputs": [],
      "source": [
        "import numpy as np\n",
        "\n",
        "def PowerMethod(A, x0 , TOL, N): #A es la matriz, x0 el vector inicial, TOL es la tolerancia y N es el numero maximo de iteraciones deseadas.\n",
        "  k = 1  # Contador de iteraciones\n",
        "  x = x0 / np.linalg.norm(x0, ord=np.inf)  # Normalizar el vector inicial utilizando la norma infinita\n",
        "  mu = 0  # Inicializar el valor propio\n",
        "\n",
        "\n",
        "  while k <= N:\n",
        "    y = A @ x  # Calcular el producto matriz-vector\n",
        "    mu_n = np.dot(y, x) / np.dot(x, x)  # Calcular la aproximación del valor propio usando el cociente de Rayleigh\n",
        "\n",
        "    if np.linalg.norm(y, ord=np.inf) == 0:  # Si la norma de y es cero, la matriz tiene un valor propio cero\n",
        "      print(f'Por favor ingrese otro vector x, pues con {x0} la matriz A tiene un valor propio 0')\n",
        "      return None\n",
        "\n",
        "    x_n = y / np.linalg.norm(y, ord=np.inf)  # Normalizar y para obtener la siguiente aproximación del vector propio\n",
        "    ERR = abs(mu_n - mu)  # Calcular el error entre los vectores sucesivos\n",
        "\n",
        "    if ERR < TOL:\n",
        "      return mu_n, x_n  # Retornar el valor propio dominante y el vector propio correspondiente\n",
        "\n",
        "    # Actualizar x y el valor propio para la siguiente iteración\n",
        "    x = x_n\n",
        "    mu = mu_n\n",
        "    k += 1  # Incrementar el contador de iteración\n",
        "\n",
        "  print('El número máximo de iteraciones ha sido alcanzado y no se logró llegar a la tolerancia necesaria.')\n",
        "  return None"
      ]
    },
    {
      "cell_type": "markdown",
      "source": [
        "### Tests y comparación"
      ],
      "metadata": {
        "id": "fi4Q9jfrFkUR"
      }
    },
    {
      "cell_type": "markdown",
      "source": [
        "#Notas:\n",
        "- Los vectores iniciales $x_0$ se generan de forma aleatoria, lo cual puede ocasionar que, en raras ocasiones, el método tarde más de lo esperado en converger o incluso no converja. Sin embargo, se recomienda volver a ejecutar el código para intentar obtener una o varias convergencias exitosas.\n",
        "-El código anterior presenta un cálculo de $\\mu = \\frac{x^T A x}{x^T x}$, el cual se introduce como el cociente de Rayleigh. Este cociente es una manera más precisa de aproximar el valor propio, independientemente de si la matriz es simétrica o no, aunque es preferible que lo sea para garantizar una mayor probabilidad de convergencia del método.\n",
        "Cabe resaltar que este cálculo es similar a lo presentado por Burden en la página 581 (Burden, 2011)."
      ],
      "metadata": {
        "id": "TMFF-bipRcJ3"
      }
    },
    {
      "cell_type": "markdown",
      "source": [
        "**1.**"
      ],
      "metadata": {
        "id": "rMatzcb2Fpc2"
      }
    },
    {
      "cell_type": "code",
      "source": [
        "A = np.array([[2,1],\n",
        "             [3,4]])\n",
        "\n",
        "x0 = np.array([1,0])\n",
        "TOL = 1e-10\n",
        "N = 10000\n",
        "\n",
        "Resultado = PowerMethod(A,x0,TOL,N)\n",
        "if Resultado is not None:\n",
        "    mu, x = Resultado\n",
        "    print(f'Valor propio: {mu}, Vector propio: {x}')"
      ],
      "metadata": {
        "colab": {
          "base_uri": "https://localhost:8080/"
        },
        "id": "CN-qDv9ZFoje",
        "outputId": "da7b6328-0265-4a05-f5de-d5c5b2e14938"
      },
      "execution_count": 60,
      "outputs": [
        {
          "output_type": "stream",
          "name": "stdout",
          "text": [
            "Valor propio: 5.000000000015729, Vector propio: [0.33333333 1.        ]\n"
          ]
        }
      ]
    },
    {
      "cell_type": "markdown",
      "source": [
        "**2.**"
      ],
      "metadata": {
        "id": "JhVdWeEnMaGH"
      }
    },
    {
      "cell_type": "code",
      "source": [
        "B = np.array([[3, 2],\n",
        "              [3, 4]])\n",
        "\n",
        "x0 = x0 = np.random.rand(2)\n",
        "TOL = 1e-100\n",
        "N = 100000\n",
        "\n",
        "Resultado = PowerMethod(B,x0,TOL,N)\n",
        "if Resultado is not None:\n",
        "    mu, x = Resultado\n",
        "    print(f'Valor propio: {mu}, Vector propio: {x}')\n"
      ],
      "metadata": {
        "colab": {
          "base_uri": "https://localhost:8080/"
        },
        "id": "d0_UAVKhMcmz",
        "outputId": "41fb3044-075f-488f-8627-7ef3988400fc"
      },
      "execution_count": 67,
      "outputs": [
        {
          "output_type": "stream",
          "name": "stdout",
          "text": [
            "Valor propio: 6.0, Vector propio: [0.66666667 1.        ]\n"
          ]
        }
      ]
    },
    {
      "cell_type": "markdown",
      "source": [
        "**3.**"
      ],
      "metadata": {
        "id": "n_O8F83sO45Y"
      }
    },
    {
      "cell_type": "code",
      "source": [
        "C = np.array([[2, 3],\n",
        "              [1, 4]])\n",
        "\n",
        "x0 = np.random.rand(2)\n",
        "TOL = 1e-100\n",
        "N = 100000\n",
        "\n",
        "Resultado = PowerMethod(C,x0,TOL,N)\n",
        "if Resultado is not None:\n",
        "    mu, x = Resultado\n",
        "    print(f'Valor propio: {mu}, Vector propio: {x}')\n"
      ],
      "metadata": {
        "colab": {
          "base_uri": "https://localhost:8080/"
        },
        "id": "4B66xmBRO6U-",
        "outputId": "9e2eeeb2-3d1a-44ee-86d6-b6ec14b68b5c"
      },
      "execution_count": 68,
      "outputs": [
        {
          "output_type": "stream",
          "name": "stdout",
          "text": [
            "Valor propio: 5.0, Vector propio: [1. 1.]\n"
          ]
        }
      ]
    },
    {
      "cell_type": "markdown",
      "source": [
        "**4.**"
      ],
      "metadata": {
        "id": "X3dv8BqePE2G"
      }
    },
    {
      "cell_type": "code",
      "source": [
        "D = np.array([[1, 1, 2],\n",
        "              [2, 1, 1],\n",
        "              [1, 1, 3]])\n",
        "\n",
        "x0 = np.random.rand(3)\n",
        "TOL = 1e-100\n",
        "N = 100000\n",
        "\n",
        "Resultado = PowerMethod(D,x0,TOL,N)\n",
        "if Resultado is not None:\n",
        "    mu, x = Resultado\n",
        "    print(f'Valor propio: {mu}, Vector propio: {x}')\n"
      ],
      "metadata": {
        "colab": {
          "base_uri": "https://localhost:8080/"
        },
        "id": "nENP_QX5PEcQ",
        "outputId": "97c2669f-7ac9-4ca8-b5ce-248a6bdab185"
      },
      "execution_count": 69,
      "outputs": [
        {
          "output_type": "stream",
          "name": "stdout",
          "text": [
            "Valor propio: 4.507018644092977, Vector propio: [0.77812384 0.72889481 1.        ]\n"
          ]
        }
      ]
    },
    {
      "cell_type": "markdown",
      "source": [
        "**5.**"
      ],
      "metadata": {
        "id": "HbmWownpP5mE"
      }
    },
    {
      "cell_type": "code",
      "source": [
        "E = np.array([[1, 1, 2],\n",
        "              [2, 1, 3],\n",
        "              [1, 1, 1]])\n",
        "\n",
        "x0 = np.random.rand(3)\n",
        "TOL = 1e-100\n",
        "N = 100000\n",
        "\n",
        "Resultado = PowerMethod(E,x0,TOL,N)\n",
        "if Resultado is not None:\n",
        "    mu, x = Resultado\n",
        "    print(f'Valor propio: {mu}, Vector propio: {x}')\n"
      ],
      "metadata": {
        "colab": {
          "base_uri": "https://localhost:8080/"
        },
        "id": "kk1GA-89P8TH",
        "outputId": "dae34881-ab77-4bfc-80aa-e25441162e55"
      },
      "execution_count": 71,
      "outputs": [
        {
          "output_type": "stream",
          "name": "stdout",
          "text": [
            "Valor propio: 4.048917339522305, Vector propio: [0.69202147 1.         0.55495813]\n"
          ]
        }
      ]
    },
    {
      "cell_type": "markdown",
      "source": [
        "**6.**"
      ],
      "metadata": {
        "id": "POFIDIDPQKLQ"
      }
    },
    {
      "cell_type": "code",
      "source": [
        "F = np.array([[2, 1, 2],\n",
        "              [1, 1, 3],\n",
        "              [1, 1, 1]])\n",
        "\n",
        "x0 = np.random.rand(3)\n",
        "TOL = 1e-100\n",
        "N = 100000\n",
        "\n",
        "Resultado = PowerMethod(F,x0,TOL,N)\n",
        "if Resultado is not None:\n",
        "    mu, x = Resultado\n",
        "    print(f'Valor propio: {mu}, Vector propio: {x}')\n"
      ],
      "metadata": {
        "colab": {
          "base_uri": "https://localhost:8080/"
        },
        "id": "8HgsRyVOQJcT",
        "outputId": "1ab3f366-aeb6-4831-e269-e0682e375dab"
      },
      "execution_count": 72,
      "outputs": [
        {
          "output_type": "stream",
          "name": "stdout",
          "text": [
            "Valor propio: 4.124885419764574, Vector propio: [1.         0.90539067 0.60974737]\n"
          ]
        }
      ]
    },
    {
      "cell_type": "markdown",
      "source": [
        "**7.**"
      ],
      "metadata": {
        "id": "-NkHA9v4Qh_7"
      }
    },
    {
      "cell_type": "code",
      "source": [
        "G = np.array([[1, 1, 1,2],\n",
        "              [2, 1, 1, 1],\n",
        "              [3, 2, 1, 2],\n",
        "              [2, 1, 1, 4]])\n",
        "\n",
        "x0 = np.random.rand(4)\n",
        "TOL = 1e-100\n",
        "N = 100000\n",
        "\n",
        "Resultado = PowerMethod(G,x0,TOL,N)\n",
        "if Resultado is not None:\n",
        "    mu, x = Resultado\n",
        "    print(f'Valor propio: {mu}, Vector propio: {x}')\n"
      ],
      "metadata": {
        "colab": {
          "base_uri": "https://localhost:8080/"
        },
        "id": "eDiyOmHDQjkr",
        "outputId": "dc0589d4-0b2f-4bf4-d27a-a6bd6a0675d8"
      },
      "execution_count": 76,
      "outputs": [
        {
          "output_type": "stream",
          "name": "stdout",
          "text": [
            "Valor propio: 6.634534463633597, Vector propio: [0.60704873 0.54782057 0.87261643 1.        ]\n"
          ]
        }
      ]
    },
    {
      "cell_type": "markdown",
      "source": [
        "**8.**"
      ],
      "metadata": {
        "id": "0m23vK1pREHX"
      }
    },
    {
      "cell_type": "code",
      "source": [
        "H = np.array([[1, 2, 1,2],\n",
        "              [2, 1, 1, 1],\n",
        "              [3, 2, 1, 2],\n",
        "              [2, 1, 1, 4]])\n",
        "\n",
        "x0 = np.random.rand(4)\n",
        "TOL = 1e-100\n",
        "N = 100000\n",
        "\n",
        "Resultado = PowerMethod(H,x0,TOL,N)\n",
        "if Resultado is not None:\n",
        "    mu, x = Resultado\n",
        "    print(f'Valor propio: {mu}, Vector propio: {x}')\n"
      ],
      "metadata": {
        "colab": {
          "base_uri": "https://localhost:8080/"
        },
        "id": "PBxBmOHoRF75",
        "outputId": "b8c18816-1041-4c38-b361-3d975865a95d"
      },
      "execution_count": 77,
      "outputs": [
        {
          "output_type": "stream",
          "name": "stdout",
          "text": [
            "Valor propio: 6.827262250104042, Vector propio: [0.6883438  0.56058521 0.88998943 1.        ]\n"
          ]
        }
      ]
    }
  ]
}