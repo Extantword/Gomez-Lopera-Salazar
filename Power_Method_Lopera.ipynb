{
  "nbformat": 4,
  "nbformat_minor": 0,
  "metadata": {
    "colab": {
      "provenance": []
    },
    "kernelspec": {
      "name": "python3",
      "display_name": "Python 3"
    },
    "language_info": {
      "name": "python"
    }
  },
  "cells": [
    {
      "cell_type": "markdown",
      "source": [
        "# Método de las Potencias\n",
        "\n",
        "##Introducción\n",
        "El método de las potencias es una técnica numérica utilizada principalmente para encontrar el valor propio dominante de una matriz, es decir, aquel con el mayor valor absoluto. Además, este método puede extenderse para determinar otros valores propios mediante modificaciones específicas en su algoritmo, como se detalla en *Numerical Analysis*  (Burden y Faires, 9ª edición, 2011).\n",
        "\n",
        "En esencia, el método consiste en realizar iteraciones sucesivas de productos entre una matriz y un vector inicial (normalizado), generando una secuencia de vectores unitarios que, en cada iteración, convergen hacia el vector propio asociado al valor propio dominante. Cabe destacar que la convergencia del método depende de que el valor propio dominante sea único y que su módulo sea significativamente mayor que el de los demás valores propios.\n",
        "\n",
        "Este método tiene numerosas aplicaciones, entre las cuales destaca su uso en algoritmos de recomendación y clasificación en la web. Un ejemplo notable es el algoritmo PageRank de Google, que emplea el método de las potencias para calcular la importancia relativa de páginas web en función de su estructura de enlaces (Ipsen, I. (n.d.). Analysis and computation of Google’s PageRank).\n",
        "\n",
        "\n",
        "\n",
        "## Convergencia\n",
        "\n",
        "Para garantizar la convergencia del método, es necesario asumir las siguientes condiciones:\n",
        "\n",
        "Dada una matriz $A \\in \\mathbb{R}^{n \\times n}$, esta debe cumplir que:\n",
        "\n",
        "- Existe un conjunto de $n$ vectores propios linealmente independientes (Kincaid y Cheney, 2002, p. 257) que forman una base del espacio: $\\{ v_1, v_2, \\dots, v_n \\}$.\n",
        "- Existe un valor propio cuyo valor absoluto es mayor que los valores absolutos del resto. Es decir, si $\\lambda_j$ es el valor propio asociado al vector propio $v_j$, se cumple que:\n",
        "\n",
        "$$\n",
        "|\\lambda_1| > |\\lambda_2| \\geq |\\lambda_3| \\geq \\cdots \\geq |\\lambda_n|.\n",
        "$$\n",
        "\n",
        "Es importante resaltar que, según Burden y Faires (2011), el primer criterio no necesariamente requiere $n$ vectores propios linealmente independientes.\n",
        "\n",
        "Para iniciar el análisis del método, consideremos que para cualquier vector $x \\in \\mathbb{R}^n$, se tiene:\n",
        "\n",
        "$$\n",
        "x = \\sum_{j=1}^n \\beta_j v_j,\n",
        "$$\n",
        "\n",
        "donde $\\beta_j \\in \\mathbb{R}$. Así, es posible observar que:\n",
        "\n",
        "$$\n",
        "Ax = \\sum_{j=1}^n \\beta_j A v_j = \\sum_{j=1}^n \\beta_j \\lambda_j v_j, \\quad A^2x = \\sum_{j=1}^n \\beta_j \\lambda_j^2 v_j, \\quad \\dots, \\quad A^k x = \\sum_{j=1}^n \\beta_j \\lambda_j^k v_j,\n",
        "$$\n",
        "\n",
        "lo cual se deduce de la definición de vector propio.\n",
        "\n",
        "A continuación, se elige un vector unitario arbitrario $x_0$ según la norma y el espacio en el que se desee trabajar. De acuerdo con *Matrix Computations* (Golub y Van Loan, 4ª edición, 2013, p. 391), en $\\mathbb{C}$ es posible deducir el método utilizando la norma 2 ($||\\cdot||_2$). Sin embargo, Burden y Faires (2011) desarrollan el método en $\\mathbb{R}$ empleando la norma infinita ($||\\cdot||_\\infty$). En esta deducción se utilizará la norma infinita.\n",
        "\n",
        "Definimos dos secuencias $y_k$ y $x_k$ tales que:\n",
        "\n",
        "$$\n",
        "y_k = A x_{k-1},\n",
        "$$\n",
        "$$\n",
        "x_k = \\frac{y_k}{||y_k||_\\infty}.\n",
        "$$\n",
        "\n",
        "Con estas, se define una secuencia $\\mu_k$ como:\n",
        "\n",
        "$$\n",
        "\\mu_k = \\frac{||y_k||_\\infty}{||x_{k-1}||_\\infty} = \\frac{||A x_{k-1}||_\\infty}{||x_{k-1}||_\\infty} = \\frac{||\\sum_{j=1}^n \\beta_j \\lambda_j^k v_j||_\\infty}{||\\sum_{j=1}^n \\beta_j \\lambda_j^{k-1} v_j||_\\infty}.\n",
        "$$\n",
        "\n",
        "Dado que la norma infinita no es un operador lineal, este paso de simplificación es válido debido a que el valor propio dominante escala el vector propio asociado ($v_1$) de manera que:\n",
        "\n",
        "$$\n",
        "||y_k||_\\infty = |\\beta_1 \\lambda_1^k| ||v_1||_\\infty.\n",
        "$$\n",
        "\n",
        "Esto implica que:\n",
        "\n",
        "$$\n",
        "\\mu_k = \\lambda_1 \\left( \\frac{\\sum_{j=1}^n |\\beta_j| \\left( \\frac{|\\lambda_j|}{|\\lambda_1|} \\right)^k ||v_j||_\\infty}{\\sum_{j=1}^n |\\beta_j| \\left( \\frac{|\\lambda_j|}{|\\lambda_1|} \\right)^{k-1} ||v_j||_\\infty} \\right).\n",
        "$$\n",
        "\n",
        "Gracias a la segunda hipótesis, dado que $|\\lambda_1| > |\\lambda_j|$ para todo $j \\in \\{2, \\dots, n\\}$, se tiene que $\\left( \\frac{|\\lambda_j|}{|\\lambda_1|} \\right)^k \\to 0$ cuando $k \\to \\infty$. Por lo tanto, podemos afirmar que:\n",
        "\n",
        "$$\n",
        "\\lim_{k \\to \\infty} \\mu_k = \\lim_{k \\to \\infty} \\lambda_1 \\left( \\frac{|\\beta_1| ||v_1||_\\infty + \\sum_{j=2}^n |\\beta_j| \\left( \\frac{|\\lambda_j|}{|\\lambda_1|} \\right)^k ||v_j||_\\infty}{|\\beta_1| ||v_1||_\\infty + \\sum_{j=2}^n |\\beta_j| \\left( \\frac{|\\lambda_j|}{|\\lambda_1|} \\right)^{k-1} ||v_j||_\\infty} \\right) = \\lambda_1.\n",
        "$$\n",
        "\n",
        "Esto demuestra que, bajo las hipótesis asumidas, el método de las potencias converge al valor propio dominante con suficientes iteraciones.\n",
        "\n",
        "## Análisis de Error\n",
        "\n",
        "Según Burden y Faires (2011, p. 579) y Golub y Van Loan (2013, p. 366), el error asociado al método depende principalmente del cociente $\\frac{\\lambda_2}{\\lambda_1}$, y existe una constante $r$ para $k$ suficientemente grande tal que:\n",
        "\n",
        "$$\n",
        "|\\mu_k - \\lambda_1| \\approx r \\left| \\frac{\\lambda_2}{\\lambda_1} \\right|^k.\n",
        "$$\n",
        "\n",
        "De esta forma, se puede expresar explícitamente la tasa de convergencia mediante el cociente de dos errores consecutivos:\n",
        "\n",
        "$$\n",
        "\\frac{|\\mu_k - \\lambda_1|}{|\\mu_{k-1} - \\lambda_1|} = \\left| \\frac{\\lambda_2}{\\lambda_1} \\right|.\n",
        "$$\n",
        "\n",
        "Tomando el límite cuando $k \\to \\infty$, se obtiene:\n",
        "\n",
        "$$\n",
        "\\lim_{k \\to \\infty} \\frac{|\\mu_k - \\lambda_1|}{|\\mu_{k-1} - \\lambda_1|} = \\left| \\frac{\\lambda_2}{\\lambda_1} \\right|.\n",
        "$$\n",
        "\n",
        "Así, se concluye que el algoritmo tiene una tasa de convergencia lineal, expresada como:\n",
        "\n",
        "$$\n",
        "\\mathcal{O}\\left( \\left| \\frac{\\lambda_2}{\\lambda_1} \\right|^k \\right).\n",
        "$$\n"
      ],
      "metadata": {
        "id": "lTfgxbjfgv-2"
      }
    },
    {
      "cell_type": "markdown",
      "source": [
        "###Nota:\n",
        "El código anterior puede contener errores debido a la conversión del documento .tex al formato aceptado por Colab. Por esta razón, dejo a continuación el enlace donde se puede encontrar el archivo original: [Tarea_Analisis_Numerico_Power_method.pdf](https://drive.google.com/file/d/1WYI_1HzyxsfcYm3XxBuVzJ0CgO6KsANl/view?usp=sharing) y al codigo en Overleaf: https://www.overleaf.com/read/hztqtypcdvyf#a0f348 (En caso de tener problemas al dar click, copie y pegue en el buscador el link)"
      ],
      "metadata": {
        "id": "K9QYNv5LhC5r"
      }
    },
    {
      "cell_type": "markdown",
      "source": [
        "###Codigo"
      ],
      "metadata": {
        "id": "aUKKlF0ui3bB"
      }
    },
    {
      "cell_type": "code",
      "execution_count": null,
      "metadata": {
        "id": "OuBUYYFbd0v2"
      },
      "outputs": [],
      "source": [
        "import numpy as np\n",
        "\n",
        "def PowerMethod(A, x0 , TOL, N): #A es la matriz, x0 el vector inicial, TOL es la tolerancia y N es el numero maximo de iteraciones deseadas.\n",
        "  k = 1  # Contador de iteraciones\n",
        "  x = x0 / np.linalg.norm(x0, ord=np.inf)  # Normalizar el vector inicial utilizando la norma infinita\n",
        "  mu = 0  # Inicializar el valor propio\n",
        "\n",
        "\n",
        "  while k <= N:\n",
        "    y = A @ x  # Calcular el producto matriz-vector\n",
        "    mu_n = np.linalg.norm(y, ord = np.inf) / np.linalg.norm(x, ord = np.inf)  # Calcular la aproximación del valor propio\n",
        "\n",
        "    if np.linalg.norm(y, ord=np.inf) == 0:  # Si la norma de y es cero, la matriz tiene un valor propio cero\n",
        "      print(f'Por favor ingrese otro vector x, pues con {x0} la matriz A tiene un valor propio 0')\n",
        "      return None\n",
        "\n",
        "    x_n = y / np.linalg.norm(y, ord=np.inf)  # Normalizar y para obtener la siguiente aproximación del vector propio\n",
        "    ERR = abs(mu_n - mu)  # Calcular el error entre los vectores sucesivos\n",
        "\n",
        "    if ERR < TOL:\n",
        "      return mu_n, x_n  # Retornar el valor propio dominante y el vector propio correspondiente\n",
        "\n",
        "    # Actualizar x y el valor propio para la siguiente iteración\n",
        "    x = x_n\n",
        "    mu = mu_n\n",
        "    k += 1  # Incrementar el contador de iteración\n",
        "\n",
        "  print('El número máximo de iteraciones ha sido alcanzado y no se logró llegar a la tolerancia necesaria.')\n",
        "  return None"
      ]
    },
    {
      "cell_type": "markdown",
      "source": [
        "### Tests y comparación"
      ],
      "metadata": {
        "id": "fi4Q9jfrFkUR"
      }
    },
    {
      "cell_type": "markdown",
      "source": [
        "#Notas:\n",
        "- Los vectores iniciales $x_0$ se generan de forma aleatoria, lo cual puede ocasionar que, en raras ocasiones, el método tarde más de lo esperado en converger o incluso no converja. Sin embargo, se recomienda volver a ejecutar el código para intentar obtener una o varias convergencias exitosas.\n",
        "- Observe a continuación que los vectores propios normalizados por el verificador, en la mayoría de los casos, corresponden al vector obtenido por el método de potencias programado, multiplicado por $-1$. Esto tiene sentido, ya que todo múltiplo escalar (diferente de $0$) de un vector propio también es un vector propio.\n"
      ],
      "metadata": {
        "id": "TMFF-bipRcJ3"
      }
    },
    {
      "cell_type": "markdown",
      "source": [
        "**Verificador de valor y vector propio:**"
      ],
      "metadata": {
        "id": "8XnyvqdlU_Cg"
      }
    },
    {
      "cell_type": "code",
      "source": [
        "import numpy as np\n",
        "\n",
        "def verificador(A):\n",
        "  eigenvalues, eigenvectors = np.linalg.eig(A)\n",
        "  for i in range(len(eigenvalues)):\n",
        "    print(f\"Valor propio {i + 1}: {eigenvalues[i]}\")\n",
        "    print(f\"Vector propio {i + 1}: {eigenvectors[:, i] / np.linalg.norm(eigenvectors[:, i], ord=np.inf)}\\n\")"
      ],
      "metadata": {
        "id": "Dy2BH0TzVGBH"
      },
      "execution_count": null,
      "outputs": []
    },
    {
      "cell_type": "markdown",
      "source": [
        "**1.**"
      ],
      "metadata": {
        "id": "rMatzcb2Fpc2"
      }
    },
    {
      "cell_type": "code",
      "source": [
        "A = np.array([[2,1],\n",
        "             [3,4]])\n",
        "\n",
        "x0 = np.random.rand(2)\n",
        "TOL = 1e-10\n",
        "N = 100\n",
        "\n",
        "Resultado = PowerMethod(A,x0,TOL,N)\n",
        "if Resultado is not None:\n",
        "    mu, x = Resultado\n",
        "    print(f'Valor propio: {mu}, Vector propio: {x}')\n",
        "    print('\\n')\n",
        "    verificador(A)"
      ],
      "metadata": {
        "colab": {
          "base_uri": "https://localhost:8080/"
        },
        "id": "CN-qDv9ZFoje",
        "outputId": "54d0ffad-c525-4486-8623-74cd4f2b3203"
      },
      "execution_count": null,
      "outputs": [
        {
          "output_type": "stream",
          "name": "stdout",
          "text": [
            "Valor propio: 5.00000000000644, Vector propio: [0.33333333 1.        ]\n",
            "\n",
            "\n",
            "Valor propio 1: 1.0\n",
            "Vector propio 1: [-1.  1.]\n",
            "\n",
            "Valor propio 2: 5.0\n",
            "Vector propio 2: [-0.33333333 -1.        ]\n",
            "\n"
          ]
        }
      ]
    },
    {
      "cell_type": "markdown",
      "source": [
        "**2.**"
      ],
      "metadata": {
        "id": "JhVdWeEnMaGH"
      }
    },
    {
      "cell_type": "code",
      "source": [
        "B = np.array([[3, 2],\n",
        "              [3, 4]])\n",
        "\n",
        "x0 = x0 = np.random.rand(2)\n",
        "TOL = 1e-10\n",
        "N = 100\n",
        "\n",
        "Resultado = PowerMethod(B,x0,TOL,N)\n",
        "if Resultado is not None:\n",
        "    mu, x = Resultado\n",
        "    print(f'Valor propio: {mu}, Vector propio: {x}')\n",
        "    print('\\n')\n",
        "    verificador(B)"
      ],
      "metadata": {
        "colab": {
          "base_uri": "https://localhost:8080/"
        },
        "id": "d0_UAVKhMcmz",
        "outputId": "138b7463-2f57-4a28-cd30-4ae780bc018f"
      },
      "execution_count": null,
      "outputs": [
        {
          "output_type": "stream",
          "name": "stdout",
          "text": [
            "Valor propio: 6.000000000009539, Vector propio: [0.66666667 1.        ]\n",
            "\n",
            "\n",
            "Valor propio 1: 1.0\n",
            "Vector propio 1: [-1.  1.]\n",
            "\n",
            "Valor propio 2: 6.0\n",
            "Vector propio 2: [-0.66666667 -1.        ]\n",
            "\n"
          ]
        }
      ]
    },
    {
      "cell_type": "markdown",
      "source": [
        "**3.**"
      ],
      "metadata": {
        "id": "n_O8F83sO45Y"
      }
    },
    {
      "cell_type": "code",
      "source": [
        "C = np.array([[2, 3],\n",
        "              [1, 4]])\n",
        "\n",
        "x0 = np.random.rand(2)\n",
        "TOL = 1e-10\n",
        "N = 100\n",
        "\n",
        "Resultado = PowerMethod(C,x0,TOL,N)\n",
        "if Resultado is not None:\n",
        "    mu, x = Resultado\n",
        "    print(f'Valor propio: {mu}, Vector propio: {x}')\n",
        "    print('\\n')\n",
        "    verificador(C)"
      ],
      "metadata": {
        "colab": {
          "base_uri": "https://localhost:8080/"
        },
        "id": "4B66xmBRO6U-",
        "outputId": "990ef241-3271-489b-c1ca-4ca51a6e46e9"
      },
      "execution_count": null,
      "outputs": [
        {
          "output_type": "stream",
          "name": "stdout",
          "text": [
            "Valor propio: 4.999999999993047, Vector propio: [1. 1.]\n",
            "\n",
            "\n",
            "Valor propio 1: 1.0\n",
            "Vector propio 1: [-1.          0.33333333]\n",
            "\n",
            "Valor propio 2: 5.0\n",
            "Vector propio 2: [-1. -1.]\n",
            "\n"
          ]
        }
      ]
    },
    {
      "cell_type": "markdown",
      "source": [
        "**4.**"
      ],
      "metadata": {
        "id": "X3dv8BqePE2G"
      }
    },
    {
      "cell_type": "code",
      "source": [
        "D = np.array([[1, 1, 2],\n",
        "              [2, 1, 1],\n",
        "              [1, 1, 3]])\n",
        "\n",
        "x0 = np.random.rand(3)\n",
        "TOL = 1e-10\n",
        "N = 100\n",
        "\n",
        "Resultado = PowerMethod(D,x0,TOL,N)\n",
        "if Resultado is not None:\n",
        "    mu, x = Resultado\n",
        "    print(f'Valor propio: {mu}, Vector propio: {x}')\n",
        "    print('\\n')\n",
        "    verificador(D)"
      ],
      "metadata": {
        "colab": {
          "base_uri": "https://localhost:8080/"
        },
        "id": "nENP_QX5PEcQ",
        "outputId": "c34c12e5-e640-4195-9485-f0d36d852990"
      },
      "execution_count": null,
      "outputs": [
        {
          "output_type": "stream",
          "name": "stdout",
          "text": [
            "Valor propio: 4.507018644097645, Vector propio: [0.77812384 0.72889481 1.        ]\n",
            "\n",
            "\n",
            "Valor propio 1: 4.507018644092977\n",
            "Vector propio 1: [-0.77812384 -0.72889481 -1.        ]\n",
            "\n",
            "Valor propio 2: -0.285142481829786\n",
            "Vector propio 2: [-0.57840419  1.         -0.1283341 ]\n",
            "\n",
            "Valor propio 3: 0.7781238377368094\n",
            "Vector propio 3: [-0.14722855 -1.          0.51633325]\n",
            "\n"
          ]
        }
      ]
    },
    {
      "cell_type": "markdown",
      "source": [
        "**5.**"
      ],
      "metadata": {
        "id": "HbmWownpP5mE"
      }
    },
    {
      "cell_type": "code",
      "source": [
        "E = np.array([[1, 1, 2],\n",
        "              [2, 1, 3],\n",
        "              [1, 1, 1]])\n",
        "\n",
        "x0 = np.random.rand(3)\n",
        "TOL = 1e-10\n",
        "N = 100\n",
        "\n",
        "Resultado = PowerMethod(E,x0,TOL,N)\n",
        "if Resultado is not None:\n",
        "    mu, x = Resultado\n",
        "    print(f'Valor propio: {mu}, Vector propio: {x}')\n",
        "    print('\\n')\n",
        "    verificador(E)"
      ],
      "metadata": {
        "colab": {
          "base_uri": "https://localhost:8080/"
        },
        "id": "kk1GA-89P8TH",
        "outputId": "e8631753-4361-4354-d336-3c6073f6c7a8"
      },
      "execution_count": null,
      "outputs": [
        {
          "output_type": "stream",
          "name": "stdout",
          "text": [
            "Valor propio: 4.048917339519715, Vector propio: [0.69202147 1.         0.55495813]\n",
            "\n",
            "\n",
            "Valor propio 1: 4.0489173395223075\n",
            "Vector propio 1: [-0.69202147 -1.         -0.55495813]\n",
            "\n",
            "Valor propio 2: -0.3568958678922092\n",
            "Vector propio 2: [-1.          0.2469796   0.55495813]\n",
            "\n",
            "Valor propio 3: -0.6920214716300966\n",
            "Vector propio 3: [-0.35689587 -1.          0.80193774]\n",
            "\n"
          ]
        }
      ]
    },
    {
      "cell_type": "markdown",
      "source": [
        "**6.**"
      ],
      "metadata": {
        "id": "POFIDIDPQKLQ"
      }
    },
    {
      "cell_type": "code",
      "source": [
        "F = np.array([[2, 1, 2],\n",
        "              [1, 1, 3],\n",
        "              [1, 1, 1]])\n",
        "\n",
        "x0 = np.random.rand(3)\n",
        "TOL = 1e-10\n",
        "N = 100\n",
        "\n",
        "Resultado = PowerMethod(F,x0,TOL,N)\n",
        "if Resultado is not None:\n",
        "    mu, x = Resultado\n",
        "    print(f'Valor propio: {mu}, Vector propio: {x}')\n",
        "    print('\\n')\n",
        "    verificador(F)"
      ],
      "metadata": {
        "colab": {
          "base_uri": "https://localhost:8080/"
        },
        "id": "8HgsRyVOQJcT",
        "outputId": "fa7792ba-a943-4fc0-9bc1-782d26b4c784"
      },
      "execution_count": null,
      "outputs": [
        {
          "output_type": "stream",
          "name": "stdout",
          "text": [
            "Valor propio: 4.1248854198028155, Vector propio: [1.         0.90539067 0.60974737]\n",
            "\n",
            "\n",
            "Valor propio 1: 4.1248854197645715\n",
            "Vector propio 1: [-1.         -0.90539067 -0.60974737]\n",
            "\n",
            "Valor propio 2: 0.6366717620673152\n",
            "Vector propio 2: [-1.          0.91934399  0.22199212]\n",
            "\n",
            "Valor propio 3: -0.7615571818318907\n",
            "Vector propio 3: [-0.08323655 -1.          0.61493124]\n",
            "\n"
          ]
        }
      ]
    },
    {
      "cell_type": "markdown",
      "source": [
        "**7.**"
      ],
      "metadata": {
        "id": "-NkHA9v4Qh_7"
      }
    },
    {
      "cell_type": "code",
      "source": [
        "G = np.array([[1, 1, 1,2],\n",
        "              [2, 1, 1, 1],\n",
        "              [3, 2, 1, 2],\n",
        "              [2, 1, 1, 4]])\n",
        "\n",
        "x0 = np.random.rand(4)\n",
        "TOL = 1e-10\n",
        "N = 100\n",
        "\n",
        "Resultado = PowerMethod(G,x0,TOL,N)\n",
        "if Resultado is not None:\n",
        "    mu, x = Resultado\n",
        "    print(f'Valor propio: {mu}, Vector propio: {x}')\n",
        "    print('\\n')\n",
        "    verificador(G)"
      ],
      "metadata": {
        "colab": {
          "base_uri": "https://localhost:8080/"
        },
        "id": "eDiyOmHDQjkr",
        "outputId": "4da9b722-3a59-4d93-8f9e-becf7ec05eab"
      },
      "execution_count": null,
      "outputs": [
        {
          "output_type": "stream",
          "name": "stdout",
          "text": [
            "Valor propio: 6.634534463651611, Vector propio: [0.60704873 0.54782057 0.87261643 1.        ]\n",
            "\n",
            "\n",
            "Valor propio 1: 6.634534463633592\n",
            "Vector propio 1: [0.60704873 0.54782057 0.87261643 1.        ]\n",
            "\n",
            "Valor propio 2: 1.5085633449433251\n",
            "Vector propio 2: [-0.17633369 -0.88988542 -1.          0.90010428]\n",
            "\n",
            "Valor propio 3: -0.7356415384387976\n",
            "Vector propio 3: [ 0.95088434 -0.46661713 -1.         -0.09188862]\n",
            "\n",
            "Valor propio 4: -0.4074562701381244\n",
            "Vector propio 4: [ 0.48583491 -1.          0.5553643  -0.11957784]\n",
            "\n"
          ]
        }
      ]
    },
    {
      "cell_type": "markdown",
      "source": [
        "**8.**"
      ],
      "metadata": {
        "id": "0m23vK1pREHX"
      }
    },
    {
      "cell_type": "code",
      "source": [
        "H = np.array([[1, 2, 1,2],\n",
        "              [2, 1, 1, 1],\n",
        "              [3, 2, 1, 2],\n",
        "              [2, 1, 1, 4]])\n",
        "\n",
        "x0 = np.random.rand(4)\n",
        "TOL = 1e-10\n",
        "N = 100\n",
        "\n",
        "Resultado = PowerMethod(H,x0,TOL,N)\n",
        "if Resultado is not None:\n",
        "    mu, x = Resultado\n",
        "    print(f'Valor propio: {mu}, Vector propio: {x}')\n",
        "    print('\\n')\n",
        "    verificador(H)"
      ],
      "metadata": {
        "colab": {
          "base_uri": "https://localhost:8080/"
        },
        "id": "PBxBmOHoRF75",
        "outputId": "ec94a3d9-da00-4c7f-d52c-c9824f07fd95"
      },
      "execution_count": null,
      "outputs": [
        {
          "output_type": "stream",
          "name": "stdout",
          "text": [
            "Valor propio: 6.827262250123926, Vector propio: [0.6883438  0.56058521 0.88998943 1.        ]\n",
            "\n",
            "\n",
            "Valor propio 1: 6.82726225010404\n",
            "Vector propio 1: [-0.6883438  -0.56058521 -0.88998943 -1.        ]\n",
            "\n",
            "Valor propio 2: 1.7281159082896402\n",
            "Vector propio 2: [-0.36944133 -0.73599467 -0.79700677  1.        ]\n",
            "\n",
            "Valor propio 3: -1.087934923662562\n",
            "Vector propio 3: [-1.          0.49346694  0.83834525  0.1313279 ]\n",
            "\n",
            "Valor propio 4: -0.467443234731121\n",
            "Vector propio 4: [-0.30500876 -0.24339641  1.         -0.03281207]\n",
            "\n"
          ]
        }
      ]
    },
    {
      "cell_type": "markdown",
      "source": [
        "## Conclusión\n",
        "El método presentado es especialmente útil cuando se trabaja con matrices grandes y no negativas. Además, su estructura permite realizar múltiples modificaciones que mejoran la velocidad y/o precisión de la convergencia. De hecho, Burden y Faires (2011) establecen modificaciones útiles a las sucesiones obtenidas originalmente, logrando una mejor aproximación al valor propio.\n",
        "\n",
        "Es importante resaltar que, además de ser un método matemáticamente sólido, presenta la ventaja de ser computacionalmente eficiente.\n",
        "\n",
        "Aunque el método funciona para los casos ilustrados anteriormente, puede tener problemas para converger, o no lo hará en alguno de los siguientes casos:\n",
        "- El valor propio dominante no es único.\n",
        "- El vector propio asociado al valor propio dominante es ortogonal al vector inicial proporcionado.\n",
        "- La matriz no es diagonalizable.\n",
        "- El valor propio dominante es igual a cero.\n",
        "- Los valores propios son muy cercanos al dominante.\n"
      ],
      "metadata": {
        "id": "709mqYQAgmqg"
      }
    }
  ]
}